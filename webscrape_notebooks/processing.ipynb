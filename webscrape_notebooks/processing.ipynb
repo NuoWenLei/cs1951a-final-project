{
 "cells": [
  {
   "cell_type": "code",
   "execution_count": 26,
   "metadata": {},
   "outputs": [],
   "source": [
    "import json\n",
    "\n",
    "with open(\"../data/items.json\", \"r\") as items_json:\n",
    "\titems = json.load(items_json)"
   ]
  },
  {
   "cell_type": "code",
   "execution_count": 27,
   "metadata": {},
   "outputs": [],
   "source": [
    "category_counts = {}\n",
    "location_counts = {}\n",
    "def extract_url_info(item):\n",
    "    cat = item[\"link\"].split(\"/\")[3]\n",
    "    item[\"num_images\"] = len(item[\"images\"])\n",
    "    metadata_splits = item[\"metadata\"].split(\"\\u00b7\")\n",
    "#     if len(metadata_splits) > 2:\n",
    "#         print(metadata_splits)\n",
    "#     loc = metadata_splits[1]\n",
    "#     item[\"location\"] = loc\n",
    "    item[\"category\"] = cat\n",
    "    if cat not in category_counts:\n",
    "        category_counts[cat] = 0\n",
    "    category_counts[cat] += 1\n",
    "    \n",
    "    del item[\"location\"]\n",
    "    \n",
    "#     if loc not in location_counts:\n",
    "#         location_counts[loc] = 0\n",
    "#     location_counts[loc] += 1\n",
    "    return item"
   ]
  },
  {
   "cell_type": "code",
   "execution_count": 28,
   "metadata": {},
   "outputs": [
    {
     "data": {
      "text/plain": [
       "{'title': 'kitchenaid measuring cups & spoons plastic',\n",
       " 'metadata': '7 mins ago·westerly',\n",
       " 'price': 5.0,\n",
       " 'link': 'https://providence.craigslist.org/hsh/d/westerly-kitchenaid-measuring-cups/7726876655.html',\n",
       " 'images': ['https://images.craigslist.org/00C0C_eGe6uOxr3zC_07K0ak_300x300.jpg'],\n",
       " 'num_images': 1,\n",
       " 'category': 'hsh'}"
      ]
     },
     "execution_count": 28,
     "metadata": {},
     "output_type": "execute_result"
    }
   ],
   "source": [
    "results = list(map(extract_url_info, items))\n",
    "results[0]"
   ]
  },
  {
   "cell_type": "code",
   "execution_count": 29,
   "metadata": {},
   "outputs": [
    {
     "data": {
      "text/plain": [
       "{'hsh': 175,\n",
       " 'bop': 5,\n",
       " 'tls': 201,\n",
       " 'pts': 166,\n",
       " 'mpo': 23,\n",
       " 'msg': 140,\n",
       " 'for': 365,\n",
       " 'clo': 108,\n",
       " 'ele': 96,\n",
       " 'emd': 25,\n",
       " 'fuo': 180,\n",
       " 'mob': 23,\n",
       " 'bfs': 75,\n",
       " 'jwl': 31,\n",
       " 'cto': 53,\n",
       " 'hab': 24,\n",
       " 'grd': 157,\n",
       " 'hvo': 40,\n",
       " 'spo': 260,\n",
       " 'tag': 73,\n",
       " 'clt': 217,\n",
       " 'grq': 2,\n",
       " 'atq': 99,\n",
       " 'wan': 24,\n",
       " 'bab': 20,\n",
       " 'bik': 77,\n",
       " 'app': 81,\n",
       " 'mat': 86,\n",
       " 'ctd': 131,\n",
       " 'boa': 23,\n",
       " 'bpo': 44,\n",
       " 'sys': 11,\n",
       " 'bks': 60,\n",
       " 'art': 21,\n",
       " 'mcy': 9,\n",
       " 'ppd': 6,\n",
       " 'wtd': 2,\n",
       " 'wto': 27,\n",
       " 'sgd': 4,\n",
       " 'bfd': 9,\n",
       " 'fud': 4,\n",
       " 'pho': 15,\n",
       " 'hvd': 4,\n",
       " 'avo': 1,\n",
       " 'tro': 10,\n",
       " 'fod': 2,\n",
       " 'tld': 1,\n",
       " 'vgm': 12,\n",
       " 'sop': 10,\n",
       " 'rvs': 3,\n",
       " 'jwd': 1,\n",
       " 'snw': 3,\n",
       " 'mcd': 5,\n",
       " 'tix': 1,\n",
       " 'msd': 1,\n",
       " 'rvd': 1,\n",
       " 'mad': 2,\n",
       " 'ptd': 2,\n",
       " 'trb': 3}"
      ]
     },
     "execution_count": 29,
     "metadata": {},
     "output_type": "execute_result"
    }
   ],
   "source": [
    "category_counts"
   ]
  },
  {
   "cell_type": "code",
   "execution_count": 30,
   "metadata": {},
   "outputs": [],
   "source": [
    "with open(\"../data/category.json\", \"w\") as category_json:\n",
    "    json.dump(category_counts, category_json)\n",
    "    \n",
    "with open(\"../data/items.json\", \"w\") as items_json:\n",
    "    json.dump(results, items_json)"
   ]
  },
  {
   "cell_type": "code",
   "execution_count": null,
   "metadata": {},
   "outputs": [],
   "source": []
  }
 ],
 "metadata": {
  "kernelspec": {
   "display_name": "Python 3 (ipykernel)",
   "language": "python",
   "name": "python3"
  },
  "language_info": {
   "codemirror_mode": {
    "name": "ipython",
    "version": 3
   },
   "file_extension": ".py",
   "mimetype": "text/x-python",
   "name": "python",
   "nbconvert_exporter": "python",
   "pygments_lexer": "ipython3",
   "version": "3.7.9"
  }
 },
 "nbformat": 4,
 "nbformat_minor": 2
}
