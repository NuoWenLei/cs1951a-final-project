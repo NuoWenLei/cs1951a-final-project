{
 "cells": [
  {
   "cell_type": "code",
   "execution_count": 4,
   "metadata": {},
   "outputs": [],
   "source": [
    "import requests\n",
    "import json\n",
    "from bs4 import BeautifulSoup\n",
    "from tqdm import tqdm"
   ]
  },
  {
   "cell_type": "code",
   "execution_count": 5,
   "metadata": {},
   "outputs": [],
   "source": [
    "def get_details(result):\n",
    "    try:\n",
    "        title = result.find(\"div\", class_=\"title\").text.strip().lower()\n",
    "        location = result.find(\"div\", class_=\"location\")\n",
    "        price = float(result.find(\"div\", class_=\"price\").text.strip(\"$\").replace(\",\", \"\"))\n",
    "        link = result.find(\"a\")[\"href\"]\n",
    "        return {\n",
    "            \"title\": title,\n",
    "            \"location\": location if location is None else location.text.strip(),\n",
    "            \"price\": price,\n",
    "            \"link\": link\n",
    "        }\n",
    "    except:\n",
    "        print(result)\n",
    "        return None"
   ]
  },
  {
   "cell_type": "code",
   "execution_count": 6,
   "metadata": {},
   "outputs": [],
   "source": [
    "def get_page_results(url):\n",
    "    try:\n",
    "        r = requests.get(url)\n",
    "        soup = BeautifulSoup(r.text, \"html.parser\")\n",
    "        search_results = soup.find_all(\"li\", class_=\"cl-static-search-result\")\n",
    "        return list(map(get_details, search_results))\n",
    "    except Exception as e:\n",
    "        print(url)\n",
    "        print(str(e))\n",
    "        print()\n",
    "        None"
   ]
  },
  {
   "cell_type": "code",
   "execution_count": 7,
   "metadata": {},
   "outputs": [
    {
     "name": "stderr",
     "output_type": "stream",
     "text": [
      "100%|██████████████████████████████████████████████████████████████████████████████████████████████████████████████████████████████████████████████| 84/84 [00:31<00:00,  2.64it/s]\n"
     ]
    }
   ],
   "source": [
    "num_galleries = 84\n",
    "total_results = []\n",
    "for i in tqdm(range(num_galleries)):\n",
    "    url = f\"https://providence.craigslist.org/search/sss?purveyor=owner#search=1~gallery~{i}~0\"\n",
    "    page_results = get_page_results(url)\n",
    "    total_results.extend(page_results)"
   ]
  },
  {
   "cell_type": "code",
   "execution_count": 8,
   "metadata": {},
   "outputs": [
    {
     "data": {
      "text/plain": [
       "29736"
      ]
     },
     "execution_count": 8,
     "metadata": {},
     "output_type": "execute_result"
    }
   ],
   "source": [
    "len(total_results)"
   ]
  },
  {
   "cell_type": "code",
   "execution_count": 9,
   "metadata": {},
   "outputs": [
    {
     "data": {
      "text/plain": [
       "{'title': 'lanzar 6.5” subs, ported enclosure, freshly built',\n",
       " 'location': 'Wakefield, RI 401',\n",
       " 'price': 125.0,\n",
       " 'link': 'https://providence.craigslist.org/ele/d/wakefield-lanzar-65-subs-ported/7724803342.html'}"
      ]
     },
     "execution_count": 9,
     "metadata": {},
     "output_type": "execute_result"
    }
   ],
   "source": [
    "total_results[29000]"
   ]
  },
  {
   "cell_type": "code",
   "execution_count": 11,
   "metadata": {},
   "outputs": [],
   "source": [
    "with open(\"../data/gallery_providence.json\", \"w\") as gallery_json:\n",
    "    json.dump(total_results, gallery_json)"
   ]
  },
  {
   "cell_type": "code",
   "execution_count": null,
   "metadata": {},
   "outputs": [],
   "source": []
  }
 ],
 "metadata": {
  "kernelspec": {
   "display_name": "Python 3 (ipykernel)",
   "language": "python",
   "name": "python3"
  },
  "language_info": {
   "codemirror_mode": {
    "name": "ipython",
    "version": 3
   },
   "file_extension": ".py",
   "mimetype": "text/x-python",
   "name": "python",
   "nbconvert_exporter": "python",
   "pygments_lexer": "ipython3",
   "version": "3.7.9"
  }
 },
 "nbformat": 4,
 "nbformat_minor": 2
}
