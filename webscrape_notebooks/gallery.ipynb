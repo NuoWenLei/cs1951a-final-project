{
 "cells": [
  {
   "cell_type": "code",
   "execution_count": 27,
   "metadata": {},
   "outputs": [],
   "source": [
    "import requests\n",
    "import json\n",
    "from bs4 import BeautifulSoup\n",
    "from tqdm import tqdm"
   ]
  },
  {
   "cell_type": "code",
   "execution_count": 153,
   "metadata": {},
   "outputs": [
    {
     "name": "stderr",
     "output_type": "stream",
     "text": [
      "100%|██████████████████████████████████████████████████████████████████████████████████████████████████████████████████████████████████████████████| 10/10 [00:02<00:00,  4.22it/s]\n"
     ]
    }
   ],
   "source": [
    "total_data = []\n",
    "\n",
    "for i in tqdm(range(0, 10000, 1080)):\n",
    "    url = (\n",
    "        \"https://sapi.craigslist.org/web/v8/postings/search/batch\"\n",
    "        + f\"?batch=38-{i}-1080-1-0-\"\n",
    "        + \"1710027366-1710027577&cacheId=MToBwzw2sO7JdPfkf-ma24ZI6RyjmGy9cuJIxM7nU3O0OoEVZvmUPuy2hi0tSHKWE_5LfaozF-i15oTgps8xFZH3GKJdqda4n9E2jZ6TBcsMvqg6QIbfeZT8WSMECg-RcZkvhNxglrgU32cGLCm61xJGyHxtQMJXdF1G\"\n",
    "        + \"&cc=US&lang=en\"\n",
    "    )\n",
    "    r = requests.get(url)\n",
    "    if (r.status_code != 200):\n",
    "        print(\"Bad request\")\n",
    "    data = json.loads(r.text)[\"data\"][\"batch\"]\n",
    "    total_data.extend(data)"
   ]
  },
  {
   "cell_type": "code",
   "execution_count": 154,
   "metadata": {},
   "outputs": [
    {
     "data": {
      "text/plain": [
       "10000"
      ]
     },
     "execution_count": 154,
     "metadata": {},
     "output_type": "execute_result"
    }
   ],
   "source": [
    "len(total_data)"
   ]
  },
  {
   "cell_type": "code",
   "execution_count": 155,
   "metadata": {},
   "outputs": [
    {
     "data": {
      "text/plain": [
       "280"
      ]
     },
     "execution_count": 155,
     "metadata": {},
     "output_type": "execute_result"
    }
   ],
   "source": [
    "len(data)"
   ]
  },
  {
   "cell_type": "code",
   "execution_count": 156,
   "metadata": {},
   "outputs": [
    {
     "data": {
      "text/plain": [
       "[10115564,\n",
       " 'Over $1500 In Lenovo Laptop Parts (NEW)',\n",
       " [],\n",
       " [6, 'east-providence-over-1500-in-lenovo'],\n",
       " [10, '$1']]"
      ]
     },
     "execution_count": 156,
     "metadata": {},
     "output_type": "execute_result"
    }
   ],
   "source": [
    "total_data[7000]"
   ]
  },
  {
   "cell_type": "code",
   "execution_count": 157,
   "metadata": {},
   "outputs": [],
   "source": [
    "with open(\"../data/gallery_providence.json\", \"w\") as gallery_json:\n",
    "    json.dump(total_data, gallery_json)"
   ]
  },
  {
   "cell_type": "code",
   "execution_count": null,
   "metadata": {},
   "outputs": [],
   "source": []
  }
 ],
 "metadata": {
  "kernelspec": {
   "display_name": "Python 3 (ipykernel)",
   "language": "python",
   "name": "python3"
  },
  "language_info": {
   "codemirror_mode": {
    "name": "ipython",
    "version": 3
   },
   "file_extension": ".py",
   "mimetype": "text/x-python",
   "name": "python",
   "nbconvert_exporter": "python",
   "pygments_lexer": "ipython3",
   "version": "3.7.9"
  }
 },
 "nbformat": 4,
 "nbformat_minor": 2
}
